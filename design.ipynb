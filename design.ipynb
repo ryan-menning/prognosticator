{
 "cells": [
  {
   "cell_type": "code",
   "execution_count": 44,
   "metadata": {},
   "outputs": [],
   "source": [
    "import pandas as pd\n",
    "import os\n",
    "import getpass\n",
    "import random\n",
    "import time"
   ]
  },
  {
   "cell_type": "code",
   "execution_count": 37,
   "metadata": {},
   "outputs": [],
   "source": [
    "def list_files(files):\n",
    "    \"\"\"Accepts a list and returns a dictionary of each item in list with a numbered index (key) starting at 1\"\"\"\n",
    "\n",
    "    dir_list = {0:'Exit'}\n",
    "    file_count = 0\n",
    "    for file in files:\n",
    "        file_count +=1\n",
    "        dir_list[file_count] = file  # assign a number to each item in the list starting with 1 \n",
    "    return dir_list  # returns the dictionary of items in the list"
   ]
  },
  {
   "cell_type": "code",
   "execution_count": 38,
   "metadata": {},
   "outputs": [],
   "source": [
    "def print_dict(dict_items):\n",
    "    \"\"\"Prints the key:value pairing in a dictionary\"\"\"\n",
    "\n",
    "    for key, value in dict_items.items():\n",
    "        print(key, \":\", value)"
   ]
  },
  {
   "cell_type": "code",
   "execution_count": 39,
   "metadata": {},
   "outputs": [],
   "source": [
    "def check_dict(dict_to_check, choice):\n",
    "    \"\"\"Checks if the input choice is a key in the provided dictionary\n",
    "        and returns 'valid' if true, 'invalid' if false\"\"\"\n",
    "\n",
    "    if choice in dict_to_check:\n",
    "        key_exists = \"valid\"\n",
    "    else:\n",
    "        key_exists = \"invalid\"\n",
    "\n",
    "    return key_exists"
   ]
  },
  {
   "cell_type": "code",
   "execution_count": 40,
   "metadata": {},
   "outputs": [],
   "source": [
    "def error_message(invalid_choice):\n",
    "    print(f\"Your input of '{invalid_choice}' is not a valid choice.\")"
   ]
  },
  {
   "cell_type": "code",
   "execution_count": 41,
   "metadata": {},
   "outputs": [],
   "source": [
    "def validate_int(user_input):\n",
    "    \"\"\"Checks if user input is an int. If not returns 'is_not_int'\"\"\"\n",
    "\n",
    "    try:\n",
    "        int(user_choice)\n",
    "    except ValueError:\n",
    "        print(f\"'{user_choice}' is not an integer.\")\n",
    "        return \"is_not_int\""
   ]
  },
  {
   "cell_type": "code",
   "execution_count": 42,
   "metadata": {},
   "outputs": [],
   "source": [
    "def file_message():\n",
    "    message1 = {1:'Great choice', 2:'Yes', 3:'Right away', 4:'Beep Boop Boop'}\n",
    "    message2 = {1:'Fetching', 2:'Opening', 3:'Gathering'}\n",
    "\n",
    "    mess1 = message1[random.randint(1,4)]\n",
    "    mess2 = message2[random.randint(1,3)]\n",
    "    return (mess1,mess2)"
   ]
  },
  {
   "cell_type": "code",
   "execution_count": null,
   "metadata": {},
   "outputs": [],
   "source": [
    "dirs = sorted(os.listdir('data'))\n",
    "dir_list = list_files(dirs)  # returned dict of files in directory\n",
    "\n",
    "print_dict(dir_list)\n",
    "user_choice = input('Enter the number next to the file to open. (0 to exit): ')\n",
    "\n",
    "int_check = validate_int(user_choice)\n",
    "if int_check == \"is_not_int\":\n",
    "    validate_choice = \"invalid\"\n",
    "else:\n",
    "    validate_choice = check_dict(dir_list, int(user_choice)) # check to see if user input is a key in the dictionary\n",
    "\n",
    "while validate_choice == \"invalid\":\n",
    "    error_message(user_choice)\n",
    "    print_dict(dir_list)\n",
    "    user_choice = input('Enter the number next to the file to open. (0 to exit): ')\n",
    "    int_check = validate_int(user_choice)\n",
    "    if int_check == \"is_not_int\":\n",
    "        validate_choice = \"invalid\"\n",
    "    else:\n",
    "        validate_choice = check_dict(dir_list, int(user_choice)) # check to see if user input is a key in the dictionary\n",
    "\n",
    "    if user_choice == 0:\n",
    "        break\n",
    "    \n",
    "\n",
    "print(f\"{user_choice} is a valid choice\")\n",
    "\n",
    "print(dir_list[int(user_choice)])\n",
    "\n",
    "if int(user_choice) != 0:\n",
    "    file_to_open = 'data/' + dir_list[int(user_choice)]\n",
    "    df = pd.read_csv(file_to_open)\n"
   ]
  },
  {
   "cell_type": "code",
   "execution_count": 57,
   "metadata": {},
   "outputs": [
    {
     "name": "stdout",
     "output_type": "stream",
     "text": [
      "Yes! Fetching YL1.csv now...\n",
      "\n",
      "The specifications for YL1 are below:\n",
      "             Limit  MDL  MDA  MDB  TDL  TDA  TDB  STR\n",
      "Color                                                \n",
      "YL1    Upper Limit  0.5  0.5  0.5  0.5  0.5  0.5  103\n",
      "YL1    Lower Limit -0.5 -0.5 -0.5 -0.5 -0.5 -0.5   97\n"
     ]
    }
   ],
   "source": [
    "# Super easy no error path\n",
    "\n",
    "dirs = sorted(os.listdir('data'))\n",
    "dir_list = list_files(dirs)  # returned dict of files in directory\n",
    "\n",
    "user_choice = 3\n",
    "\n",
    "if int(user_choice) != 0:\n",
    "    selected_file = dir_list[int(user_choice)]\n",
    "    fill_messages = file_message()\n",
    "    print(f\"{fill_messages[0]}! {fill_messages[1]} {selected_file} now...\")\n",
    "    time.sleep(3)  # pause execution for message\n",
    "    df_all_specs = pd.read_csv('specifications.csv').set_index('Color')  # read all product specifications into a df\n",
    "    file_to_open = 'data/' + selected_file\n",
    "    df = pd.read_csv(file_to_open)\n",
    "    # prod = dir_list[int(user_choice)].rstrip(\".csv\")  # assuming all file choices are CSV files\n",
    "    prod = os.path.splitext(selected_file)[0]  # separate filename from extension \n",
    "    df_prod_specs = df_all_specs.iloc[lambda x: x.index == prod]\n",
    "    print()  # whitespace\n",
    "    print(f\"The specifications for {prod} are below:\")\n",
    "    print(df_prod_specs)"
   ]
  },
  {
   "cell_type": "code",
   "execution_count": 50,
   "metadata": {},
   "outputs": [],
   "source": [
    "def determine_ulimit_position(top_position):\n",
    "    if top_position == \"Upper Limit\":\n",
    "        return 0\n",
    "    else:\n",
    "        return 1\n",
    "\n"
   ]
  },
  {
   "cell_type": "code",
   "execution_count": 70,
   "metadata": {},
   "outputs": [],
   "source": [
    "ulimit = determine_ulimit_position(df_prod_specs.iloc[0,0])\n",
    "if ulimit == 0:\n",
    "    df_ul_specs = df_prod_specs.iloc[0,:]\n",
    "    df_ll_specs = df_prod_specs.iloc[1,:]\n",
    "else:\n",
    "    df_ul_specs = df_prod_specs.iloc[1,:]\n",
    "    df_ll_specs = df_prod_specs.iloc[0,:]"
   ]
  },
  {
   "cell_type": "code",
   "execution_count": 71,
   "metadata": {},
   "outputs": [
    {
     "data": {
      "text/plain": [
       "Limit    Upper Limit\n",
       "MDL              0.5\n",
       "MDA              0.5\n",
       "MDB              0.5\n",
       "TDL              0.5\n",
       "TDA              0.5\n",
       "TDB              0.5\n",
       "STR              103\n",
       "Name: YL1, dtype: object"
      ]
     },
     "execution_count": 71,
     "metadata": {},
     "output_type": "execute_result"
    }
   ],
   "source": [
    "# df_all_specs = pd.read_csv('specifications.csv').set_index('Color')\n",
    "#df_prod_specs = df_all_specs.iloc[lambda x: x.index == prod]\n",
    "df_ul_specs"
   ]
  },
  {
   "cell_type": "code",
   "execution_count": 69,
   "metadata": {},
   "outputs": [
    {
     "data": {
      "text/plain": [
       "0.5"
      ]
     },
     "execution_count": 69,
     "metadata": {},
     "output_type": "execute_result"
    }
   ],
   "source": [
    "df_ul_specs[1]"
   ]
  },
  {
   "cell_type": "code",
   "execution_count": 78,
   "metadata": {},
   "outputs": [
    {
     "data": {
      "text/plain": [
       "0    False\n",
       "1    False\n",
       "2    False\n",
       "3    False\n",
       "4     True\n",
       "5    False\n",
       "6     True\n",
       "7    False\n",
       "8    False\n",
       "9     True\n",
       "Name: MDL, dtype: bool"
      ]
     },
     "execution_count": 78,
     "metadata": {},
     "output_type": "execute_result"
    }
   ],
   "source": [
    "test_df = (df['MDL'] <= df_ul_specs[1]) & (df['MDL'] >= df_ll_specs[1])\n",
    "test_df"
   ]
  }
 ],
 "metadata": {
  "interpreter": {
   "hash": "39ec653acb1a476c3fa5ac4e04adf5a245ae50cf16ce2f9e5c6121bb3a9423c1"
  },
  "kernelspec": {
   "display_name": "Python 3.7.4 ('prog_env')",
   "language": "python",
   "name": "python3"
  },
  "language_info": {
   "codemirror_mode": {
    "name": "ipython",
    "version": 3
   },
   "file_extension": ".py",
   "mimetype": "text/x-python",
   "name": "python",
   "nbconvert_exporter": "python",
   "pygments_lexer": "ipython3",
   "version": "3.10.0"
  },
  "orig_nbformat": 4
 },
 "nbformat": 4,
 "nbformat_minor": 2
}
