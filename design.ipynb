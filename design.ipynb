{
 "cells": [
  {
   "cell_type": "code",
   "execution_count": 30,
   "metadata": {},
   "outputs": [],
   "source": [
    "import pandas as pd\n",
    "import numpy as np\n",
    "import os\n",
    "import getpass\n",
    "import random\n",
    "import time"
   ]
  },
  {
   "cell_type": "code",
   "execution_count": 78,
   "metadata": {},
   "outputs": [],
   "source": [
    "def list_files(files):\n",
    "    \"\"\"Accepts a list and returns a dictionary of each item in list with a numbered index (key) starting at 1\"\"\"\n",
    "\n",
    "    dir_list = {0:'Exit'}\n",
    "    file_count = 0\n",
    "    for file in files:\n",
    "        file_count +=1\n",
    "        dir_list[file_count] = file  # assign a number to each item in the list starting with 1 \n",
    "    return dir_list  # returns the dictionary of items in the list\n",
    "\n",
    "def print_dict(dict_items):\n",
    "    \"\"\"Prints the key:value pairing in a dictionary\"\"\"\n",
    "\n",
    "    for key, value in dict_items.items():\n",
    "        print(key, \":\", value)\n",
    "\n",
    "def check_dict(dict_to_check, choice):\n",
    "    \"\"\"Checks if the input choice is a key in the provided dictionary\n",
    "        and returns 'valid' if true, 'invalid' if false\"\"\"\n",
    "\n",
    "    if choice in dict_to_check:\n",
    "        key_exists = \"valid\"\n",
    "    else:\n",
    "        key_exists = \"invalid\"\n",
    "\n",
    "    return key_exists\n",
    "\n",
    "def error_message(invalid_choice):\n",
    "    print(f\"Your input of '{invalid_choice}' is not a valid choice.\")\n",
    "\n",
    "def validate_int(user_input):\n",
    "    \"\"\"Checks if user input is an int. If not returns 'is_not_int'\"\"\"\n",
    "\n",
    "    try:\n",
    "        int(user_choice)\n",
    "    except ValueError:\n",
    "        print(f\"'{user_choice}' is not an integer.\")\n",
    "        return \"is_not_int\"\n",
    "\n",
    "def file_message():\n",
    "    message1 = {1:'Great choice', 2:'Yes', 3:'Right away', 4:'Beep Boop Boop'}\n",
    "    message2 = {1:'Fetching', 2:'Opening', 3:'Gathering'}\n",
    "\n",
    "    mess1 = message1[random.randint(1,4)]\n",
    "    mess2 = message2[random.randint(1,3)]\n",
    "    return (mess1,mess2)\n",
    "\n",
    "def determine_ulimit_position(top_position):\n",
    "    if top_position == \"Upper Limit\":\n",
    "        return 0\n",
    "    else:\n",
    "        return 1\n",
    "\n",
    "def target_test_keys(keys): \n",
    "    \"\"\"Accepts a list of lists and returns a list of the first value from each list\"\"\"\n",
    "    \n",
    "    spec_keys = []\n",
    "    for i in range(len(keys)):\n",
    "        spec_keys.append(keys[i][0])\n",
    "    return spec_keys\n",
    "\n",
    "def get_target_columns(col_list, spec_keys):\n",
    "    target_columns = []\n",
    "    for i in range(len(col_list)):\n",
    "        if col_list[i] in spec_keys:\n",
    "            target_columns.append(col_list[i])\n",
    "    return target_columns"
   ]
  },
  {
   "cell_type": "code",
   "execution_count": null,
   "metadata": {},
   "outputs": [],
   "source": [
    "dirs = sorted(os.listdir('data'))\n",
    "dir_list = list_files(dirs)  # returned dict of files in directory\n",
    "\n",
    "print_dict(dir_list)\n",
    "user_choice = input('Enter the number next to the file to open. (0 to exit): ')\n",
    "\n",
    "int_check = validate_int(user_choice)\n",
    "if int_check == \"is_not_int\":\n",
    "    validate_choice = \"invalid\"\n",
    "else:\n",
    "    validate_choice = check_dict(dir_list, int(user_choice)) # check to see if user input is a key in the dictionary\n",
    "\n",
    "while validate_choice == \"invalid\":\n",
    "    error_message(user_choice)\n",
    "    print_dict(dir_list)\n",
    "    user_choice = input('Enter the number next to the file to open. (0 to exit): ')\n",
    "    int_check = validate_int(user_choice)\n",
    "    if int_check == \"is_not_int\":\n",
    "        validate_choice = \"invalid\"\n",
    "    else:\n",
    "        validate_choice = check_dict(dir_list, int(user_choice)) # check to see if user input is a key in the dictionary\n",
    "\n",
    "    if user_choice == 0:\n",
    "        break\n",
    "    \n",
    "\n",
    "print(f\"{user_choice} is a valid choice\")\n",
    "\n",
    "print(dir_list[int(user_choice)])\n",
    "\n",
    "if int(user_choice) != 0:\n",
    "    file_to_open = 'data/' + dir_list[int(user_choice)]\n",
    "    df = pd.read_csv(file_to_open)\n"
   ]
  },
  {
   "cell_type": "code",
   "execution_count": 61,
   "metadata": {},
   "outputs": [
    {
     "name": "stdout",
     "output_type": "stream",
     "text": [
      "Great choice! Gathering YL1.csv now...\n",
      "\n",
      "The specifications for YL1 are below:\n",
      "['MDL', 'MDA', 'MDB', 'TDL', 'TDA', 'TDB', 'STR']\n"
     ]
    }
   ],
   "source": [
    "# Super easy no error path\n",
    "\n",
    "dirs = sorted(os.listdir('data'))\n",
    "dir_list = list_files(dirs)  # returned dict of files in directory\n",
    "\n",
    "user_choice = 3\n",
    "\n",
    "if int(user_choice) != 0:\n",
    "    selected_file = dir_list[int(user_choice)]\n",
    "    fill_messages = file_message()\n",
    "    print(f\"{fill_messages[0]}! {fill_messages[1]} {selected_file} now...\")\n",
    "    time.sleep(3)  # pause execution for message\n",
    "    df_all_specs = pd.read_csv('specifications.csv').set_index('product')  # read all product specifications into a df\n",
    "    file_to_open = 'data/' + selected_file\n",
    "    df = pd.read_csv(file_to_open)\n",
    "    # prod = dir_list[int(user_choice)].rstrip(\".csv\")  # assuming all file choices are CSV files\n",
    "    prod = os.path.splitext(selected_file)[0]  # separate filename from extension \n",
    "    df_prod_specs = df_all_specs.iloc[lambda x: x.index == prod]  # filter specifications by product name from the selected file\n",
    "    prod_target_keys = target_test_keys(df_prod_specs.values)  # creates a list of product test keys that are in specifications file\n",
    "    target_columns = get_target_columns(df.columns, prod_target_keys)  # creates a list of column name values, from the selected file,  that match values in prod_target_keys list\n",
    "\n",
    "    print()  # whitespace\n",
    "    print(f\"The specifications for {prod} are below:\")\n",
    "    print(prod_target_keys)\n",
    "    print(target_columns)"
   ]
  },
  {
   "cell_type": "code",
   "execution_count": 90,
   "metadata": {},
   "outputs": [
    {
     "name": "stdout",
     "output_type": "stream",
     "text": [
      "    MDL   MDA   MDB   TDL   TDA   TDB    STR\n",
      "0 -0.78  0.62 -0.58  0.00  0.10 -1.92   93.0\n",
      "1 -1.19  1.02 -0.54 -0.04  0.22 -2.08   92.7\n",
      "2 -1.35  1.24 -0.47  0.07  0.13 -2.34   90.8\n",
      "3 -1.32  1.32 -0.11  0.08  0.43 -2.07   92.1\n",
      "4  0.20 -0.20  0.20  0.10 -0.10  0.30  102.0\n",
      "[[-7.80e-01  6.20e-01 -5.80e-01  0.00e+00  1.00e-01 -1.92e+00  9.30e+01]\n",
      " [-1.19e+00  1.02e+00 -5.40e-01 -4.00e-02  2.20e-01 -2.08e+00  9.27e+01]\n",
      " [-1.35e+00  1.24e+00 -4.70e-01  7.00e-02  1.30e-01 -2.34e+00  9.08e+01]\n",
      " [-1.32e+00  1.32e+00 -1.10e-01  8.00e-02  4.30e-01 -2.07e+00  9.21e+01]\n",
      " [ 2.00e-01 -2.00e-01  2.00e-01  1.00e-01 -1.00e-01  3.00e-01  1.02e+02]\n",
      " [-1.15e+00  1.12e+00 -1.80e-01  1.00e-01  4.50e-01 -2.18e+00  9.11e+01]\n",
      " [ 2.00e-01 -2.00e-01  2.00e-01  1.00e-01 -1.00e-01  3.00e-01  1.02e+02]\n",
      " [-1.24e+00  1.04e+00  2.20e-01 -1.70e-01  2.30e-01 -2.05e+00  9.45e+01]\n",
      " [-1.07e+00  1.15e+00 -4.00e-02 -1.90e-01  3.10e-01 -1.72e+00  9.51e+01]\n",
      " [-4.00e-02 -4.00e-02 -7.40e-01  0.00e+00 -2.00e-02 -1.01e+00  9.64e+01]]\n",
      "[[-7.80e-01  6.20e-01 -5.80e-01  0.00e+00  1.00e-01 -1.92e+00  9.30e+01]\n",
      " [-1.19e+00  1.02e+00 -5.40e-01 -4.00e-02  2.20e-01 -2.08e+00  9.27e+01]\n",
      " [-1.35e+00  1.24e+00 -4.70e-01  7.00e-02  1.30e-01 -2.34e+00  9.08e+01]\n",
      " [-1.32e+00  1.32e+00 -1.10e-01  8.00e-02  4.30e-01 -2.07e+00  9.21e+01]\n",
      " [ 2.00e-01 -2.00e-01  2.00e-01  1.00e-01 -1.00e-01  3.00e-01  1.02e+02]\n",
      " [-1.15e+00  1.12e+00 -1.80e-01  1.00e-01  4.50e-01 -2.18e+00  9.11e+01]\n",
      " [ 2.00e-01 -2.00e-01  2.00e-01  1.00e-01 -1.00e-01  3.00e-01  1.02e+02]\n",
      " [-1.24e+00  1.04e+00  2.20e-01 -1.70e-01  2.30e-01 -2.05e+00  9.45e+01]\n",
      " [-1.07e+00  1.15e+00 -4.00e-02 -1.90e-01  3.10e-01 -1.72e+00  9.51e+01]\n",
      " [-4.00e-02 -4.00e-02 -7.40e-01  0.00e+00 -2.00e-02 -1.01e+00  9.64e+01]]\n",
      "<class 'pandas.core.frame.DataFrame'>\n",
      "<class 'numpy.ndarray'>\n",
      "<class 'numpy.ndarray'>\n"
     ]
    }
   ],
   "source": [
    "new = df[target_columns]\n",
    "newer = np.array(df[target_columns])\n",
    "newest = df[target_columns].to_numpy(dtype=float)\n",
    "print(new.head())\n",
    "print(newer)\n",
    "print(newest)\n",
    "print(type(new))\n",
    "print(type(newer))\n",
    "print(type(newest))"
   ]
  },
  {
   "cell_type": "code",
   "execution_count": null,
   "metadata": {},
   "outputs": [],
   "source": [
    "# need to compare np array vs spec"
   ]
  },
  {
   "cell_type": "code",
   "execution_count": 34,
   "metadata": {},
   "outputs": [
    {
     "data": {
      "text/plain": [
       "3"
      ]
     },
     "execution_count": 34,
     "metadata": {},
     "output_type": "execute_result"
    }
   ],
   "source": [
    "ry = np.array([4,5,6])\n",
    "len(ry)"
   ]
  },
  {
   "cell_type": "code",
   "execution_count": null,
   "metadata": {},
   "outputs": [],
   "source": [
    "def compare_vs_spec():\n",
    "    pass"
   ]
  },
  {
   "cell_type": "code",
   "execution_count": 78,
   "metadata": {},
   "outputs": [
    {
     "data": {
      "text/plain": [
       "0    False\n",
       "1    False\n",
       "2    False\n",
       "3    False\n",
       "4     True\n",
       "5    False\n",
       "6     True\n",
       "7    False\n",
       "8    False\n",
       "9     True\n",
       "Name: MDL, dtype: bool"
      ]
     },
     "execution_count": 78,
     "metadata": {},
     "output_type": "execute_result"
    }
   ],
   "source": [
    "test_df = (df['MDL'] <= df_ul_specs[1]) & (df['MDL'] >= df_ll_specs[1])\n",
    "test_df"
   ]
  },
  {
   "cell_type": "code",
   "execution_count": null,
   "metadata": {},
   "outputs": [],
   "source": []
  },
  {
   "cell_type": "code",
   "execution_count": null,
   "metadata": {},
   "outputs": [],
   "source": []
  }
 ],
 "metadata": {
  "interpreter": {
   "hash": "39ec653acb1a476c3fa5ac4e04adf5a245ae50cf16ce2f9e5c6121bb3a9423c1"
  },
  "kernelspec": {
   "display_name": "Python 3.7.4 ('prog_env')",
   "language": "python",
   "name": "python3"
  },
  "language_info": {
   "codemirror_mode": {
    "name": "ipython",
    "version": 3
   },
   "file_extension": ".py",
   "mimetype": "text/x-python",
   "name": "python",
   "nbconvert_exporter": "python",
   "pygments_lexer": "ipython3",
   "version": "3.10.0"
  },
  "orig_nbformat": 4
 },
 "nbformat": 4,
 "nbformat_minor": 2
}
