{
 "cells": [
  {
   "cell_type": "code",
   "execution_count": 1,
   "metadata": {},
   "outputs": [],
   "source": [
    "import pandas as pd\n",
    "import os"
   ]
  },
  {
   "cell_type": "code",
   "execution_count": 2,
   "metadata": {},
   "outputs": [],
   "source": [
    "def list_files(files):\n",
    "    \"\"\"Accepts a list and returns a dictionary of each item in list with a numbered index (key) starting at 1\"\"\"\n",
    "\n",
    "    dir_list = {0:'Exit'}\n",
    "    file_count = 0\n",
    "    for file in files:\n",
    "        file_count +=1\n",
    "        dir_list[file_count] = file  # assign a number to each item in the list starting with 1 \n",
    "    return dir_list  # returns the dictionary of items in the list"
   ]
  },
  {
   "cell_type": "code",
   "execution_count": 3,
   "metadata": {},
   "outputs": [],
   "source": [
    "def print_dict(dict_items):\n",
    "    \"\"\"Prints the key:value pairing in a dictionary\"\"\"\n",
    "\n",
    "    for key, value in dict_items.items():\n",
    "        print(key, \":\", value)"
   ]
  },
  {
   "cell_type": "code",
   "execution_count": 4,
   "metadata": {},
   "outputs": [],
   "source": [
    "def check_dict(dict_to_check, choice):\n",
    "    \"\"\"Checks if the input choice is a key in the provided dictionary\n",
    "        and returns 'valid' if true, 'invalid' if false\"\"\"\n",
    "\n",
    "    if choice in dict_to_check:\n",
    "        key_exists = \"valid\"\n",
    "    else:\n",
    "        key_exists = \"invalid\"\n",
    "\n",
    "    return key_exists"
   ]
  },
  {
   "cell_type": "code",
   "execution_count": 5,
   "metadata": {},
   "outputs": [],
   "source": [
    "def error_message(invalid_choice):\n",
    "    print(f\"Your input of '{invalid_choice}' is not a valid choice.\")"
   ]
  },
  {
   "cell_type": "code",
   "execution_count": 6,
   "metadata": {},
   "outputs": [],
   "source": [
    "def validate_int(user_input):\n",
    "    \"\"\"Checks if user input is an int. If not returns 'is_not_int'\"\"\"\n",
    "\n",
    "    try:\n",
    "        int(user_choice)\n",
    "    except ValueError:\n",
    "        print(f\"'{user_choice}' is not an integer.\")\n",
    "        return \"is_not_int\""
   ]
  },
  {
   "cell_type": "code",
   "execution_count": null,
   "metadata": {},
   "outputs": [],
   "source": [
    "dirs = sorted(os.listdir('data'))\n",
    "dir_list = list_files(dirs)  # returned dict of files in directory\n",
    "\n",
    "print_dict(dir_list)\n",
    "user_choice = input('Enter the number next to the file to open. (0 to exit): ')\n",
    "\n",
    "int_check = validate_int(user_choice)\n",
    "if int_check == \"is_not_int\":\n",
    "    validate_choice = \"invalid\"\n",
    "else:\n",
    "    validate_choice = check_dict(dir_list, int(user_choice)) # check to see if user input is a key in the dictionary\n",
    "\n",
    "while validate_choice == \"invalid\":\n",
    "    error_message(user_choice)\n",
    "    print_dict(dir_list)\n",
    "    user_choice = input('Enter the number next to the file to open. (0 to exit): ')\n",
    "    int_check = validate_int(user_choice)\n",
    "    if int_check == \"is_not_int\":\n",
    "        validate_choice = \"invalid\"\n",
    "    else:\n",
    "        validate_choice = check_dict(dir_list, int(user_choice)) # check to see if user input is a key in the dictionary\n",
    "\n",
    "    if user_choice == 0:\n",
    "        break\n",
    "    \n",
    "\n",
    "print(f\"{user_choice} is a valid choice\")\n",
    "\n",
    "print(dir_list[int(user_choice)])\n",
    "\n",
    "if int(user_choice) != 0:\n",
    "    file_to_open = 'data/' + dir_list[int(user_choice)]\n",
    "    df = pd.read_csv(file_to_open)\n"
   ]
  },
  {
   "cell_type": "code",
   "execution_count": 22,
   "metadata": {},
   "outputs": [],
   "source": [
    "# Super easy no error path\n",
    "\n",
    "dirs = sorted(os.listdir('data'))\n",
    "dir_list = list_files(dirs)  # returned dict of files in directory\n",
    "\n",
    "user_choice = 3\n",
    "\n",
    "if int(user_choice) != 0:\n",
    "    df_all_specs = pd.read_csv('specifications.csv').set_index('Color')\n",
    "    file_to_open = 'data/' + dir_list[int(user_choice)]\n",
    "    df = pd.read_csv(file_to_open)\n",
    "    # prod = dir_list[int(user_choice)].rstrip(\".csv\")\n",
    "    prod = os.path.splitext(dir_list[int(user_choice)])[0]\n",
    "    df_prod_specs = df_all_specs.iloc[lambda x: x.index == prod]\n",
    "   "
   ]
  },
  {
   "cell_type": "code",
   "execution_count": 23,
   "metadata": {},
   "outputs": [
    {
     "name": "stdout",
     "output_type": "stream",
     "text": [
      "YL1\n"
     ]
    }
   ],
   "source": [
    "print(prod)"
   ]
  },
  {
   "cell_type": "code",
   "execution_count": null,
   "metadata": {},
   "outputs": [],
   "source": []
  },
  {
   "cell_type": "code",
   "execution_count": null,
   "metadata": {},
   "outputs": [],
   "source": []
  },
  {
   "cell_type": "code",
   "execution_count": null,
   "metadata": {},
   "outputs": [],
   "source": []
  },
  {
   "cell_type": "code",
   "execution_count": null,
   "metadata": {},
   "outputs": [],
   "source": []
  }
 ],
 "metadata": {
  "interpreter": {
   "hash": "39ec653acb1a476c3fa5ac4e04adf5a245ae50cf16ce2f9e5c6121bb3a9423c1"
  },
  "kernelspec": {
   "display_name": "Python 3.7.4 ('prog_env')",
   "language": "python",
   "name": "python3"
  },
  "language_info": {
   "codemirror_mode": {
    "name": "ipython",
    "version": 3
   },
   "file_extension": ".py",
   "mimetype": "text/x-python",
   "name": "python",
   "nbconvert_exporter": "python",
   "pygments_lexer": "ipython3",
   "version": "3.10.0"
  },
  "orig_nbformat": 4
 },
 "nbformat": 4,
 "nbformat_minor": 2
}
