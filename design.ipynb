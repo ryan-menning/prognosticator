{
 "cells": [
  {
   "cell_type": "code",
   "execution_count": 1,
   "metadata": {},
   "outputs": [],
   "source": [
    "import pandas as pd\n",
    "import os"
   ]
  },
  {
   "cell_type": "code",
   "execution_count": 30,
   "metadata": {},
   "outputs": [],
   "source": [
    "def list_files(files):\n",
    "    \"\"\"Accepts a list and returns a dictionary of each item in list with a numbered index (key) starting at 1\"\"\"\n",
    "\n",
    "    dir_list = {0:'Exit'}\n",
    "    file_count = 0\n",
    "    for file in files:\n",
    "        file_count +=1\n",
    "        dir_list[file_count] = file  # assign a number to each item in the list starting with 1 \n",
    "    return dir_list  # returns the dictionary of items in the list"
   ]
  },
  {
   "cell_type": "code",
   "execution_count": 31,
   "metadata": {},
   "outputs": [],
   "source": [
    "def print_dict(dict_items):\n",
    "    \"\"\"Prints the key:value pairing in a dictionary\"\"\"\n",
    "\n",
    "    for key, value in dict_items.items():\n",
    "        print(key, \":\", value)"
   ]
  },
  {
   "cell_type": "code",
   "execution_count": 32,
   "metadata": {},
   "outputs": [],
   "source": [
    "def check_dict(dict_to_check, choice):\n",
    "    \"\"\"Checks if the input choice is a key in the provided dictionary\n",
    "        and returns 'valid' if true, 'invalid' if false\"\"\"\n",
    "\n",
    "    if choice in dict_to_check:\n",
    "        key_exists = \"valid\"\n",
    "    else:\n",
    "        key_exists = \"invalid\"\n",
    "\n",
    "    return key_exists"
   ]
  },
  {
   "cell_type": "code",
   "execution_count": 33,
   "metadata": {},
   "outputs": [],
   "source": [
    "def error_message(invalid_choice):\n",
    "    print(f\"Your input of '{invalid_choice}' is not a valid choice.\")"
   ]
  },
  {
   "cell_type": "code",
   "execution_count": 38,
   "metadata": {},
   "outputs": [
    {
     "name": "stdout",
     "output_type": "stream",
     "text": [
      "0 : Exit\n",
      "1 : ingred.csv\n",
      "2 : p2.csv\n",
      "Your input of '5' is not a valid choice.\n",
      "0 : Exit\n",
      "1 : ingred.csv\n",
      "2 : p2.csv\n",
      "Your input of '6' is not a valid choice.\n",
      "0 : Exit\n",
      "1 : ingred.csv\n",
      "2 : p2.csv\n",
      "Your input of '7' is not a valid choice.\n",
      "0 : Exit\n",
      "1 : ingred.csv\n",
      "2 : p2.csv\n",
      "Your input of '5' is not a valid choice.\n",
      "0 : Exit\n",
      "1 : ingred.csv\n",
      "2 : p2.csv\n"
     ]
    }
   ],
   "source": [
    "dirs = sorted(os.listdir('data'))\n",
    "dir_list = list_files(dirs)  # returned dict of files in directory\n",
    "\n",
    "print_dict(dir_list)\n",
    "user_choice = int(input('Enter the number next to the file to open. (0 to exit): '))\n",
    "validate_choice = check_dict(dir_list, user_choice) # check to see if user input is a key in the dictionary\n",
    "\n",
    "while validate_choice == \"invalid\":\n",
    "    error_message(user_choice)\n",
    "    print_dict(dir_list)\n",
    "    user_choice = int(input('Enter the number next to the file to open. (0 to exit): '))\n",
    "    validate_choice = check_dict(dir_list, user_choice) # check to see if user input is a key in the dictionary\n",
    "    if user_choice == 0:\n",
    "        break\n",
    "    \n",
    "# while user_choice != 0:\n"
   ]
  },
  {
   "cell_type": "code",
   "execution_count": null,
   "metadata": {},
   "outputs": [],
   "source": []
  },
  {
   "cell_type": "code",
   "execution_count": null,
   "metadata": {},
   "outputs": [],
   "source": []
  },
  {
   "cell_type": "code",
   "execution_count": null,
   "metadata": {},
   "outputs": [],
   "source": []
  },
  {
   "cell_type": "code",
   "execution_count": null,
   "metadata": {},
   "outputs": [],
   "source": []
  },
  {
   "cell_type": "code",
   "execution_count": null,
   "metadata": {},
   "outputs": [],
   "source": []
  }
 ],
 "metadata": {
  "interpreter": {
   "hash": "39ec653acb1a476c3fa5ac4e04adf5a245ae50cf16ce2f9e5c6121bb3a9423c1"
  },
  "kernelspec": {
   "display_name": "Python 3.7.4 ('prog_env')",
   "language": "python",
   "name": "python3"
  },
  "language_info": {
   "codemirror_mode": {
    "name": "ipython",
    "version": 3
   },
   "file_extension": ".py",
   "mimetype": "text/x-python",
   "name": "python",
   "nbconvert_exporter": "python",
   "pygments_lexer": "ipython3",
   "version": "3.10.0"
  },
  "orig_nbformat": 4
 },
 "nbformat": 4,
 "nbformat_minor": 2
}
