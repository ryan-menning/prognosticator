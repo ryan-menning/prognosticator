{
 "cells": [
  {
   "cell_type": "code",
   "execution_count": 210,
   "metadata": {},
   "outputs": [],
   "source": [
    "import pandas as pd\n",
    "import numpy as np\n",
    "import os\n",
    "import getpass\n",
    "import random\n",
    "import time\n",
    "import matplotlib.pyplot as plt\n",
    "import seaborn as sns"
   ]
  },
  {
   "cell_type": "code",
   "execution_count": 106,
   "metadata": {},
   "outputs": [],
   "source": [
    "def list_files(files):\n",
    "    \"\"\"Accepts a list and returns a dictionary of each item in list with a numbered index (key) starting at 1\"\"\"\n",
    "\n",
    "    dir_list = {0:'Exit'}\n",
    "    file_count = 0\n",
    "    for file in files:\n",
    "        file_count +=1\n",
    "        dir_list[file_count] = file  # assign a number to each item in the list starting with 1 \n",
    "    return dir_list  # returns the dictionary of items in the list\n",
    "\n",
    "def print_dict(dict_items):\n",
    "    \"\"\"Prints the key:value pairing in a dictionary\"\"\"\n",
    "\n",
    "    for key, value in dict_items.items():\n",
    "        print(key, \":\", value)\n",
    "\n",
    "def check_dict(dict_to_check, choice):\n",
    "    \"\"\"Checks if the input choice is a key in the provided dictionary\n",
    "        and returns 'valid' if true, 'invalid' if false\"\"\"\n",
    "\n",
    "    if choice in dict_to_check:\n",
    "        key_exists = \"valid\"\n",
    "    else:\n",
    "        key_exists = \"invalid\"\n",
    "\n",
    "    return key_exists\n",
    "\n",
    "def error_message(invalid_choice):\n",
    "    print(f\"Your input of '{invalid_choice}' is not a valid choice.\")\n",
    "\n",
    "def validate_int(user_input):\n",
    "    \"\"\"Checks if user input is an int. If not returns 'is_not_int'\"\"\"\n",
    "\n",
    "    try:\n",
    "        int(user_choice)\n",
    "    except ValueError:\n",
    "        print(f\"'{user_choice}' is not an integer.\")\n",
    "        return \"is_not_int\"\n",
    "\n",
    "def file_message():\n",
    "    message1 = {1:'Great choice', 2:'Yes', 3:'Right away', 4:'Beep Boop Boop'}\n",
    "    message2 = {1:'Fetching', 2:'Opening', 3:'Gathering'}\n",
    "\n",
    "    mess1 = message1[random.randint(1,4)]\n",
    "    mess2 = message2[random.randint(1,3)]\n",
    "    return (mess1,mess2)\n",
    "\n",
    "def determine_ulimit_position(top_position):\n",
    "    if top_position == \"Upper Limit\":\n",
    "        return 0\n",
    "    else:\n",
    "        return 1\n",
    "\n",
    "def target_test_keys(keys): \n",
    "    \"\"\"Accepts a list of lists and returns a list of the first value from each list\"\"\"\n",
    "    \n",
    "    spec_keys = []\n",
    "    for i in range(len(keys)):\n",
    "        spec_keys.append(keys[i][0])\n",
    "    return spec_keys\n",
    "\n",
    "def get_target_columns(col_list, spec_keys):\n",
    "    target_columns = []\n",
    "    for i in range(len(col_list)):\n",
    "        if col_list[i] in spec_keys:\n",
    "            target_columns.append(col_list[i])\n",
    "    return target_columns\n",
    "\n",
    "def create_spec_dict(spec_arr):\n",
    "    new_dict = {}\n",
    "    new_list = []\n",
    "    for i in range(len(spec_arr)):\n",
    "        new_list = [spec_arr[i][1],spec_arr[i][2]]\n",
    "        new_dict[spec_arr[i][0]] = new_list\n",
    "    return new_dict\n",
    "\n",
    "def combine_limits(targ_col,prod_spec_dict):  # This is making a big assumption that the lower limits are listed before upper limits in specifications file\n",
    "    prod_ll = []\n",
    "    prod_ul = []\n",
    "    prod_ll_dict = {}\n",
    "    prod_ul_dict = {}\n",
    "    for i in range(len(targ_col)):\n",
    "        key = targ_col[i]\n",
    "        prod_ll.append(prod_spec_dict[key][0])\n",
    "        prod_ul.append(prod_spec_dict[key][1])\n",
    "        \n",
    "    prod_ll_dict['lower_limits'] = prod_ll\n",
    "    prod_ul_dict['upper_limits'] = prod_ul\n",
    "    return {**prod_ll_dict, **prod_ul_dict}"
   ]
  },
  {
   "cell_type": "code",
   "execution_count": null,
   "metadata": {},
   "outputs": [],
   "source": [
    "dirs = sorted(os.listdir('data'))\n",
    "dir_list = list_files(dirs)  # returned dict of files in directory\n",
    "\n",
    "print_dict(dir_list)\n",
    "user_choice = input('Enter the number next to the file to open. (0 to exit): ')\n",
    "\n",
    "int_check = validate_int(user_choice)\n",
    "if int_check == \"is_not_int\":\n",
    "    validate_choice = \"invalid\"\n",
    "else:\n",
    "    validate_choice = check_dict(dir_list, int(user_choice)) # check to see if user input is a key in the dictionary\n",
    "\n",
    "while validate_choice == \"invalid\":\n",
    "    error_message(user_choice)\n",
    "    print_dict(dir_list)\n",
    "    user_choice = input('Enter the number next to the file to open. (0 to exit): ')\n",
    "    int_check = validate_int(user_choice)\n",
    "    if int_check == \"is_not_int\":\n",
    "        validate_choice = \"invalid\"\n",
    "    else:\n",
    "        validate_choice = check_dict(dir_list, int(user_choice)) # check to see if user input is a key in the dictionary\n",
    "\n",
    "    if user_choice == 0:\n",
    "        break\n",
    "    \n",
    "\n",
    "print(f\"{user_choice} is a valid choice\")\n",
    "\n",
    "print(dir_list[int(user_choice)])\n",
    "\n",
    "if int(user_choice) != 0:\n",
    "    file_to_open = 'data/' + dir_list[int(user_choice)]\n",
    "    df = pd.read_csv(file_to_open)\n"
   ]
  },
  {
   "cell_type": "code",
   "execution_count": 207,
   "metadata": {},
   "outputs": [
    {
     "name": "stdout",
     "output_type": "stream",
     "text": [
      "Beep Boop Boop! Gathering YL1.csv now...\n"
     ]
    }
   ],
   "source": [
    "# Super easy no error path\n",
    "\n",
    "dirs = sorted(os.listdir('data'))\n",
    "dir_list = list_files(dirs)  # returned dict of files in directory\n",
    "\n",
    "user_choice = 3\n",
    "\n",
    "if int(user_choice) != 0:\n",
    "    selected_file = dir_list[int(user_choice)]\n",
    "    fill_messages = file_message()\n",
    "    print(f\"{fill_messages[0]}! {fill_messages[1]} {selected_file} now...\")\n",
    "    time.sleep(2)  # pause execution for message\n",
    "    df_all_specs = pd.read_csv('specifications.csv').set_index('product')  # read all product specifications into a df\n",
    "    file_to_open = 'data/' + selected_file\n",
    "    df = pd.read_csv(file_to_open)\n",
    "    # prod = dir_list[int(user_choice)].rstrip(\".csv\")  # assuming all file choices are CSV files\n",
    "    prod = os.path.splitext(selected_file)[0]  # separate filename from extension \n",
    "    df_prod_specs = df_all_specs.iloc[lambda x: x.index == prod]  # filter specifications by product name from the selected file\n",
    "    prod_specs_arr = df_prod_specs.values  # create numpy array of product specifications\n",
    "    prod_target_keys = target_test_keys(prod_specs_arr)  # creates a list of product test keys that are in specifications file. The order of list may not be in any specific order. \n",
    "    target_columns = get_target_columns(df.columns, prod_target_keys)  # creates a list of column name values, from the selected file,  that match values in prod_target_keys list\n",
    "    prod_spec_dict = create_spec_dict(prod_specs_arr)\n",
    "    prod_limits_dict = combine_limits(target_columns,prod_spec_dict)\n",
    "\n",
    "\n",
    "    test_values = df[target_columns].to_numpy(dtype=float)\n",
    "    lower_limits = np.array(prod_limits_dict['lower_limits'])\n",
    "    upper_limits = np.array(prod_limits_dict['upper_limits'])\n",
    "    is_below_ll = (np.less(test_values,lower_limits))  # array displays true if test value below lower spec limit\n",
    "    is_above_ul = (np.greater(test_values,upper_limits))  # array displays true if test value above upper spec limit\n",
    "    combined_arr = np.add(is_below_ll, is_above_ul)  # adds the two arrays \n",
    "\n",
    "    combined_df_in_spec = ~pd.DataFrame(data=combined_arr[0:,0:],\n",
    "                               index=(df['Lot'].values),  #  assuming \"Lot\" is a column name in selected product file\n",
    "                               columns=target_columns)\n",
    "\n",
    "    combined_df_in_spec['is_in_spec'] = combined_df_in_spec.prod(1)  # create column in df to show if all test results for a lot are within specifications\n",
    "    total_df_rows = combined_df_in_spec.shape[0]\n",
    "    total_in_spec_rows = combined_df_in_spec['is_in_spec'].sum()\n",
    "    percent_good = \"{:.1%}\".format(total_in_spec_rows/total_df_rows)\n",
    "    spec_df = pd.DataFrame(data=(lower_limits,upper_limits),\n",
    "                               index=['Lower Limits', 'Upper Limits'],\n",
    "                               columns=target_columns)\n"
   ]
  },
  {
   "cell_type": "code",
   "execution_count": 208,
   "metadata": {},
   "outputs": [
    {
     "name": "stdout",
     "output_type": "stream",
     "text": [
      "\n",
      "Overview of file contents:\n",
      "        Date Product   Lot  Equip   MDL   MDA   MDB   TDL   TDA   TDB    STR\n",
      "0   6/3/2021     YL1   725  GR084 -0.78  0.62 -0.58  0.00  0.10 -1.92   93.0\n",
      "1   6/6/2021     YL1   726  GR084 -1.19  1.02 -0.54 -0.04  0.22 -2.08   92.7\n",
      "2  6/11/2021     YL1  1300  GR084 -1.35  1.24 -0.47  0.07  0.13 -2.34   90.8\n",
      "3   6/8/2021     YL1  1301  GR084 -1.32  1.32 -0.11  0.08  0.43 -2.07   92.1\n",
      "4  6/13/2021     YL1  1959  GR084  0.20 -0.20  0.20  0.10 -0.10  0.30  102.0\n",
      "\n",
      "The specifications for YL1 are:\n",
      "              MDL  MDA  MDB  TDL  TDA  TDB    STR\n",
      "Lower Limits -0.5 -0.5 -0.5 -0.5 -0.5 -0.5   97.0\n",
      "Upper Limits  0.5  0.5  0.5  0.5  0.5  0.5  103.0\n",
      "\n",
      "2 of the 10 (20.0%) YL1 batches are within the YL1 specifications.\n"
     ]
    }
   ],
   "source": [
    "print()  # whitespace\n",
    "print('Overview of file contents:')\n",
    "print(df.head(5))\n",
    "print()\n",
    "print(f\"The specifications for {prod} are:\")\n",
    "print(spec_df)\n",
    "print()\n",
    "print(f'{total_in_spec_rows} of the {total_df_rows} ({percent_good}) {prod} batches are within the {prod} specifications.')\n",
    "\n",
    "\n",
    "# print(f'{total_in_spec_rows} of the {total_df_rows} ({percent_good}) {prod} batches are within the {prod} specifications.')\n",
    "# print(prod_target_keys)\n",
    "# print(target_columns)\n",
    "# print(prod_spec_dict)\n",
    "# print(prod_limits_dict)\n",
    "# print(combined_df_in_spec)"
   ]
  },
  {
   "cell_type": "code",
   "execution_count": 245,
   "metadata": {},
   "outputs": [
    {
     "data": {
      "image/png": "[encoded data removed]",
      "text/plain": [
       "<Figure size 864x576 with 1 Axes>"
      ]
     },
     "metadata": {
      "needs_background": "light"
     },
     "output_type": "display_data"
    }
   ],
   "source": [
    "fig = plt.figure(figsize=(12,8))\n",
    "\n",
    "# plt.Axes.vlines([-0.5,0.5], 0, 1, colors='red', label='Lower Limit')\n",
    "# plt.vlines(-0.5, 0, 5, colors='red', label='Lower Limit')\n",
    "# plt.Axes.vlines()\n",
    "plt.axvline(-.5, 0, 1, color='red')  # lower limit reference line\n",
    "plt.axvline(0.5, 0, 1, color='red')  # upper limit reference line\n",
    "# plt.Axes.set_ylabel('Count')\n",
    "# plt.Axes.set_xlabel('MDL')\n",
    "sns.histplot(data=df['MDL'], binwidth=0.2, kde=True, color='green')\n",
    "#plt.hist(df['MDL'],color='green', edgecolor='black')\n",
    "\n",
    "\n",
    "plt.show()"
   ]
  },
  {
   "cell_type": "code",
   "execution_count": 25,
   "metadata": {},
   "outputs": [
    {
     "name": "stdout",
     "output_type": "stream",
     "text": [
      "['MDL', 'MDA', 'MDB', 'TDL', 'TDA', 'TDB', 'STR']\n"
     ]
    }
   ],
   "source": [
    "# won't need this but good example of list comprehension for sorting \"list x\" based on \"list y\" (x,y)\n",
    "# zip the two lists.\n",
    "# create a new, sorted list based on the zip using sorted().\n",
    "# using a list comprehension extract the first elements of each pair from the sorted, zipped list.\n",
    "\n",
    "sorted_prod_target_keys = [x for _, x in sorted(zip(prod_target_keys,target_columns))]\n",
    "print(sorted_prod_target_keys)"
   ]
  },
  {
   "cell_type": "code",
   "execution_count": 147,
   "metadata": {},
   "outputs": [
    {
     "data": {
      "text/plain": [
       "0"
      ]
     },
     "execution_count": 147,
     "metadata": {},
     "output_type": "execute_result"
    }
   ],
   "source": [
    "True*True\n",
    "True*False"
   ]
  },
  {
   "cell_type": "code",
   "execution_count": 34,
   "metadata": {},
   "outputs": [
    {
     "data": {
      "text/plain": [
       "3"
      ]
     },
     "execution_count": 34,
     "metadata": {},
     "output_type": "execute_result"
    }
   ],
   "source": [
    "ry = np.array([4,5,6])\n",
    "len(ry)"
   ]
  },
  {
   "cell_type": "code",
   "execution_count": null,
   "metadata": {},
   "outputs": [],
   "source": [
    "def compare_vs_spec():\n",
    "    pass"
   ]
  },
  {
   "cell_type": "code",
   "execution_count": 78,
   "metadata": {},
   "outputs": [
    {
     "data": {
      "text/plain": [
       "0    False\n",
       "1    False\n",
       "2    False\n",
       "3    False\n",
       "4     True\n",
       "5    False\n",
       "6     True\n",
       "7    False\n",
       "8    False\n",
       "9     True\n",
       "Name: MDL, dtype: bool"
      ]
     },
     "execution_count": 78,
     "metadata": {},
     "output_type": "execute_result"
    }
   ],
   "source": [
    "test_df = (df['MDL'] <= df_ul_specs[1]) & (df['MDL'] >= df_ll_specs[1])\n",
    "test_df"
   ]
  },
  {
   "cell_type": "code",
   "execution_count": null,
   "metadata": {},
   "outputs": [],
   "source": []
  },
  {
   "cell_type": "code",
   "execution_count": null,
   "metadata": {},
   "outputs": [],
   "source": []
  }
 ],
 "metadata": {
  "interpreter": {
   "hash": "39ec653acb1a476c3fa5ac4e04adf5a245ae50cf16ce2f9e5c6121bb3a9423c1"
  },
  "kernelspec": {
   "display_name": "Python 3.7.4 ('prog_env')",
   "language": "python",
   "name": "python3"
  },
  "language_info": {
   "codemirror_mode": {
    "name": "ipython",
    "version": 3
   },
   "file_extension": ".py",
   "mimetype": "text/x-python",
   "name": "python",
   "nbconvert_exporter": "python",
   "pygments_lexer": "ipython3",
   "version": "3.7.4"
  },
  "orig_nbformat": 4
 },
 "nbformat": 4,
 "nbformat_minor": 2
}
